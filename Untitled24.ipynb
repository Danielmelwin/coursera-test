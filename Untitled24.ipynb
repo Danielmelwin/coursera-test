{
  "nbformat": 4,
  "nbformat_minor": 0,
  "metadata": {
    "colab": {
      "name": "Untitled24.ipynb",
      "provenance": [],
      "collapsed_sections": [],
      "authorship_tag": "ABX9TyNST8H2smFt/ZyDl6GamBpS",
      "include_colab_link": true
    },
    "kernelspec": {
      "name": "python3",
      "display_name": "Python 3"
    }
  },
  "cells": [
    {
      "cell_type": "markdown",
      "metadata": {
        "id": "view-in-github",
        "colab_type": "text"
      },
      "source": [
        "<a href=\"https://colab.research.google.com/github/Danielmelwin/coursera-test/blob/master/Untitled24.ipynb\" target=\"_parent\"><img src=\"https://colab.research.google.com/assets/colab-badge.svg\" alt=\"Open In Colab\"/></a>"
      ]
    },
    {
      "cell_type": "code",
      "metadata": {
        "id": "p4moGUS0VXp2",
        "outputId": "6a5b7a33-ef8e-4300-e2d3-8c4fc6ef1300",
        "colab": {
          "resources": {
            "http://localhost:8080/nbextensions/google.colab/files.js": {
              "data": "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",
              "ok": true,
              "headers": [
                [
                  "content-type",
                  "application/javascript"
                ]
              ],
              "status": 200,
              "status_text": ""
            }
          },
          "base_uri": "https://localhost:8080/",
          "height": 73
        }
      },
      "source": [
        "from google.colab import files\n",
        "uploader=files.upload()"
      ],
      "execution_count": 1,
      "outputs": [
        {
          "output_type": "display_data",
          "data": {
            "text/html": [
              "\n",
              "     <input type=\"file\" id=\"files-c30c40e4-915a-4579-b924-44b7359e85d7\" name=\"files[]\" multiple disabled\n",
              "        style=\"border:none\" />\n",
              "     <output id=\"result-c30c40e4-915a-4579-b924-44b7359e85d7\">\n",
              "      Upload widget is only available when the cell has been executed in the\n",
              "      current browser session. Please rerun this cell to enable.\n",
              "      </output>\n",
              "      <script src=\"/nbextensions/google.colab/files.js\"></script> "
            ],
            "text/plain": [
              "<IPython.core.display.HTML object>"
            ]
          },
          "metadata": {
            "tags": []
          }
        },
        {
          "output_type": "stream",
          "text": [
            "Saving Restaurant names and Metadata.csv to Restaurant names and Metadata.csv\n"
          ],
          "name": "stdout"
        }
      ]
    },
    {
      "cell_type": "code",
      "metadata": {
        "id": "xC3KNv4VWXRR",
        "outputId": "a481bf2a-e17c-423b-c689-546c0501c509",
        "colab": {
          "resources": {
            "http://localhost:8080/nbextensions/google.colab/files.js": {
              "data": "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",
              "ok": true,
              "headers": [
                [
                  "content-type",
                  "application/javascript"
                ]
              ],
              "status": 200,
              "status_text": ""
            }
          },
          "base_uri": "https://localhost:8080/",
          "height": 73
        }
      },
      "source": [
        "from google.colab import files\n",
        "uploader=files.upload()"
      ],
      "execution_count": 4,
      "outputs": [
        {
          "output_type": "display_data",
          "data": {
            "text/html": [
              "\n",
              "     <input type=\"file\" id=\"files-62102ca1-cd88-4097-9d5b-1a1bc91c4c0c\" name=\"files[]\" multiple disabled\n",
              "        style=\"border:none\" />\n",
              "     <output id=\"result-62102ca1-cd88-4097-9d5b-1a1bc91c4c0c\">\n",
              "      Upload widget is only available when the cell has been executed in the\n",
              "      current browser session. Please rerun this cell to enable.\n",
              "      </output>\n",
              "      <script src=\"/nbextensions/google.colab/files.js\"></script> "
            ],
            "text/plain": [
              "<IPython.core.display.HTML object>"
            ]
          },
          "metadata": {
            "tags": []
          }
        },
        {
          "output_type": "stream",
          "text": [
            "Saving Restaurant reviews.csv to Restaurant reviews.csv\n"
          ],
          "name": "stdout"
        }
      ]
    },
    {
      "cell_type": "code",
      "metadata": {
        "id": "yQhTOhWwWgwW"
      },
      "source": [
        "import pandas as pd\n",
        "data_names = pd.read_csv('Restaurant names and Metadata.csv')\n",
        "data_reviews = pd.read_csv('Restaurant reviews.csv')\n"
      ],
      "execution_count": 5,
      "outputs": []
    },
    {
      "cell_type": "code",
      "metadata": {
        "id": "RMyt4HEAW0Y7",
        "outputId": "85989e38-3b68-46cf-88c7-c371b165545e",
        "colab": {
          "base_uri": "https://localhost:8080/",
          "height": 279
        }
      },
      "source": [
        "data_names.head()"
      ],
      "execution_count": 6,
      "outputs": [
        {
          "output_type": "execute_result",
          "data": {
            "text/html": [
              "<div>\n",
              "<style scoped>\n",
              "    .dataframe tbody tr th:only-of-type {\n",
              "        vertical-align: middle;\n",
              "    }\n",
              "\n",
              "    .dataframe tbody tr th {\n",
              "        vertical-align: top;\n",
              "    }\n",
              "\n",
              "    .dataframe thead th {\n",
              "        text-align: right;\n",
              "    }\n",
              "</style>\n",
              "<table border=\"1\" class=\"dataframe\">\n",
              "  <thead>\n",
              "    <tr style=\"text-align: right;\">\n",
              "      <th></th>\n",
              "      <th>Name</th>\n",
              "      <th>Links</th>\n",
              "      <th>Cost</th>\n",
              "      <th>Collections</th>\n",
              "      <th>Cuisines</th>\n",
              "      <th>Timings</th>\n",
              "    </tr>\n",
              "  </thead>\n",
              "  <tbody>\n",
              "    <tr>\n",
              "      <th>0</th>\n",
              "      <td>Beyond Flavours</td>\n",
              "      <td>https://www.zomato.com/hyderabad/beyond-flavou...</td>\n",
              "      <td>800</td>\n",
              "      <td>Food Hygiene Rated Restaurants in Hyderabad, C...</td>\n",
              "      <td>Chinese, Continental, Kebab, European, South I...</td>\n",
              "      <td>12noon to 3:30pm, 6:30pm to 11:30pm (Mon-Sun)</td>\n",
              "    </tr>\n",
              "    <tr>\n",
              "      <th>1</th>\n",
              "      <td>Paradise</td>\n",
              "      <td>https://www.zomato.com/hyderabad/paradise-gach...</td>\n",
              "      <td>800</td>\n",
              "      <td>Hyderabad's Hottest</td>\n",
              "      <td>Biryani, North Indian, Chinese</td>\n",
              "      <td>11 AM to 11 PM</td>\n",
              "    </tr>\n",
              "    <tr>\n",
              "      <th>2</th>\n",
              "      <td>Flechazo</td>\n",
              "      <td>https://www.zomato.com/hyderabad/flechazo-gach...</td>\n",
              "      <td>1,300</td>\n",
              "      <td>Great Buffets, Hyderabad's Hottest</td>\n",
              "      <td>Asian, Mediterranean, North Indian, Desserts</td>\n",
              "      <td>11:30 AM to 4:30 PM, 6:30 PM to 11 PM</td>\n",
              "    </tr>\n",
              "    <tr>\n",
              "      <th>3</th>\n",
              "      <td>Shah Ghouse Hotel &amp; Restaurant</td>\n",
              "      <td>https://www.zomato.com/hyderabad/shah-ghouse-h...</td>\n",
              "      <td>800</td>\n",
              "      <td>Late Night Restaurants</td>\n",
              "      <td>Biryani, North Indian, Chinese, Seafood, Bever...</td>\n",
              "      <td>12 Noon to 2 AM</td>\n",
              "    </tr>\n",
              "    <tr>\n",
              "      <th>4</th>\n",
              "      <td>Over The Moon Brew Company</td>\n",
              "      <td>https://www.zomato.com/hyderabad/over-the-moon...</td>\n",
              "      <td>1,200</td>\n",
              "      <td>Best Bars &amp; Pubs, Food Hygiene Rated Restauran...</td>\n",
              "      <td>Asian, Continental, North Indian, Chinese, Med...</td>\n",
              "      <td>12noon to 11pm (Mon, Tue, Wed, Thu, Sun), 12no...</td>\n",
              "    </tr>\n",
              "  </tbody>\n",
              "</table>\n",
              "</div>"
            ],
            "text/plain": [
              "                             Name  ...                                            Timings\n",
              "0                 Beyond Flavours  ...      12noon to 3:30pm, 6:30pm to 11:30pm (Mon-Sun)\n",
              "1                        Paradise  ...                                     11 AM to 11 PM\n",
              "2                        Flechazo  ...              11:30 AM to 4:30 PM, 6:30 PM to 11 PM\n",
              "3  Shah Ghouse Hotel & Restaurant  ...                                    12 Noon to 2 AM\n",
              "4      Over The Moon Brew Company  ...  12noon to 11pm (Mon, Tue, Wed, Thu, Sun), 12no...\n",
              "\n",
              "[5 rows x 6 columns]"
            ]
          },
          "metadata": {
            "tags": []
          },
          "execution_count": 6
        }
      ]
    },
    {
      "cell_type": "code",
      "metadata": {
        "id": "P3Kdi8l0W4rd",
        "outputId": "c63a391b-a337-4981-f5d8-e015aaec70d0",
        "colab": {
          "base_uri": "https://localhost:8080/",
          "height": 195
        }
      },
      "source": [
        "data_reviews.head()"
      ],
      "execution_count": 7,
      "outputs": [
        {
          "output_type": "execute_result",
          "data": {
            "text/html": [
              "<div>\n",
              "<style scoped>\n",
              "    .dataframe tbody tr th:only-of-type {\n",
              "        vertical-align: middle;\n",
              "    }\n",
              "\n",
              "    .dataframe tbody tr th {\n",
              "        vertical-align: top;\n",
              "    }\n",
              "\n",
              "    .dataframe thead th {\n",
              "        text-align: right;\n",
              "    }\n",
              "</style>\n",
              "<table border=\"1\" class=\"dataframe\">\n",
              "  <thead>\n",
              "    <tr style=\"text-align: right;\">\n",
              "      <th></th>\n",
              "      <th>Restaurant</th>\n",
              "      <th>Reviewer</th>\n",
              "      <th>Review</th>\n",
              "      <th>Rating</th>\n",
              "      <th>Metadata</th>\n",
              "      <th>Time</th>\n",
              "      <th>Pictures</th>\n",
              "    </tr>\n",
              "  </thead>\n",
              "  <tbody>\n",
              "    <tr>\n",
              "      <th>0</th>\n",
              "      <td>Beyond Flavours</td>\n",
              "      <td>Rusha Chakraborty</td>\n",
              "      <td>The ambience was good, food was quite good . h...</td>\n",
              "      <td>5</td>\n",
              "      <td>1 Review , 2 Followers</td>\n",
              "      <td>5/25/2019 15:54</td>\n",
              "      <td>0</td>\n",
              "    </tr>\n",
              "    <tr>\n",
              "      <th>1</th>\n",
              "      <td>Beyond Flavours</td>\n",
              "      <td>Anusha Tirumalaneedi</td>\n",
              "      <td>Ambience is too good for a pleasant evening. S...</td>\n",
              "      <td>5</td>\n",
              "      <td>3 Reviews , 2 Followers</td>\n",
              "      <td>5/25/2019 14:20</td>\n",
              "      <td>0</td>\n",
              "    </tr>\n",
              "    <tr>\n",
              "      <th>2</th>\n",
              "      <td>Beyond Flavours</td>\n",
              "      <td>Ashok Shekhawat</td>\n",
              "      <td>A must try.. great food great ambience. Thnx f...</td>\n",
              "      <td>5</td>\n",
              "      <td>2 Reviews , 3 Followers</td>\n",
              "      <td>5/24/2019 22:54</td>\n",
              "      <td>0</td>\n",
              "    </tr>\n",
              "    <tr>\n",
              "      <th>3</th>\n",
              "      <td>Beyond Flavours</td>\n",
              "      <td>Swapnil Sarkar</td>\n",
              "      <td>Soumen das and Arun was a great guy. Only beca...</td>\n",
              "      <td>5</td>\n",
              "      <td>1 Review , 1 Follower</td>\n",
              "      <td>5/24/2019 22:11</td>\n",
              "      <td>0</td>\n",
              "    </tr>\n",
              "    <tr>\n",
              "      <th>4</th>\n",
              "      <td>Beyond Flavours</td>\n",
              "      <td>Dileep</td>\n",
              "      <td>Food is good.we ordered Kodi drumsticks and ba...</td>\n",
              "      <td>5</td>\n",
              "      <td>3 Reviews , 2 Followers</td>\n",
              "      <td>5/24/2019 21:37</td>\n",
              "      <td>0</td>\n",
              "    </tr>\n",
              "  </tbody>\n",
              "</table>\n",
              "</div>"
            ],
            "text/plain": [
              "        Restaurant              Reviewer  ...             Time Pictures\n",
              "0  Beyond Flavours     Rusha Chakraborty  ...  5/25/2019 15:54        0\n",
              "1  Beyond Flavours  Anusha Tirumalaneedi  ...  5/25/2019 14:20        0\n",
              "2  Beyond Flavours       Ashok Shekhawat  ...  5/24/2019 22:54        0\n",
              "3  Beyond Flavours        Swapnil Sarkar  ...  5/24/2019 22:11        0\n",
              "4  Beyond Flavours                Dileep  ...  5/24/2019 21:37        0\n",
              "\n",
              "[5 rows x 7 columns]"
            ]
          },
          "metadata": {
            "tags": []
          },
          "execution_count": 7
        }
      ]
    },
    {
      "cell_type": "code",
      "metadata": {
        "id": "mOsKRS39W8UR",
        "outputId": "cadeff73-d988-420b-d9cf-cd58fcd74f25",
        "colab": {
          "base_uri": "https://localhost:8080/",
          "height": 235
        }
      },
      "source": [
        "data_names.info()"
      ],
      "execution_count": 8,
      "outputs": [
        {
          "output_type": "stream",
          "text": [
            "<class 'pandas.core.frame.DataFrame'>\n",
            "RangeIndex: 105 entries, 0 to 104\n",
            "Data columns (total 6 columns):\n",
            " #   Column       Non-Null Count  Dtype \n",
            "---  ------       --------------  ----- \n",
            " 0   Name         105 non-null    object\n",
            " 1   Links        105 non-null    object\n",
            " 2   Cost         105 non-null    object\n",
            " 3   Collections  51 non-null     object\n",
            " 4   Cuisines     105 non-null    object\n",
            " 5   Timings      104 non-null    object\n",
            "dtypes: object(6)\n",
            "memory usage: 5.0+ KB\n"
          ],
          "name": "stdout"
        }
      ]
    },
    {
      "cell_type": "code",
      "metadata": {
        "id": "kRk4Ga5nW_7i",
        "outputId": "dc015464-80a9-41e4-88e2-376475400b09",
        "colab": {
          "base_uri": "https://localhost:8080/",
          "height": 134
        }
      },
      "source": [
        "data_names.nunique()"
      ],
      "execution_count": 9,
      "outputs": [
        {
          "output_type": "execute_result",
          "data": {
            "text/plain": [
              "Name           105\n",
              "Links          105\n",
              "Cost            29\n",
              "Collections     42\n",
              "Cuisines        92\n",
              "Timings         77\n",
              "dtype: int64"
            ]
          },
          "metadata": {
            "tags": []
          },
          "execution_count": 9
        }
      ]
    },
    {
      "cell_type": "code",
      "metadata": {
        "id": "perRpYszXCvx",
        "outputId": "8bfc53c1-47ae-49c9-e231-970ea3609858",
        "colab": {
          "base_uri": "https://localhost:8080/",
          "height": 252
        }
      },
      "source": [
        "data_reviews.info()"
      ],
      "execution_count": 10,
      "outputs": [
        {
          "output_type": "stream",
          "text": [
            "<class 'pandas.core.frame.DataFrame'>\n",
            "RangeIndex: 10000 entries, 0 to 9999\n",
            "Data columns (total 7 columns):\n",
            " #   Column      Non-Null Count  Dtype \n",
            "---  ------      --------------  ----- \n",
            " 0   Restaurant  10000 non-null  object\n",
            " 1   Reviewer    9962 non-null   object\n",
            " 2   Review      9955 non-null   object\n",
            " 3   Rating      9962 non-null   object\n",
            " 4   Metadata    9962 non-null   object\n",
            " 5   Time        9962 non-null   object\n",
            " 6   Pictures    10000 non-null  int64 \n",
            "dtypes: int64(1), object(6)\n",
            "memory usage: 547.0+ KB\n"
          ],
          "name": "stdout"
        }
      ]
    },
    {
      "cell_type": "code",
      "metadata": {
        "id": "Z1JPw7aYXHW8",
        "outputId": "ef9da0d8-ea36-4547-82ad-b5faedaf5d70",
        "colab": {
          "base_uri": "https://localhost:8080/",
          "height": 151
        }
      },
      "source": [
        "data_reviews.nunique()"
      ],
      "execution_count": 11,
      "outputs": [
        {
          "output_type": "execute_result",
          "data": {
            "text/plain": [
              "Restaurant     100\n",
              "Reviewer      7446\n",
              "Review        9364\n",
              "Rating          10\n",
              "Metadata      2477\n",
              "Time          9782\n",
              "Pictures        36\n",
              "dtype: int64"
            ]
          },
          "metadata": {
            "tags": []
          },
          "execution_count": 11
        }
      ]
    },
    {
      "cell_type": "code",
      "metadata": {
        "id": "9H4awMTqXMTD",
        "outputId": "75028596-3c2a-4869-dbac-20ea662f18fa",
        "colab": {
          "base_uri": "https://localhost:8080/",
          "height": 195
        }
      },
      "source": [
        "data_reviews = data_reviews.rename(columns={'Restaurant': 'Name'})\n",
        "\n",
        "# Merging the two data sets:\n",
        "df = pd.merge(data_reviews, data_names, how='left', on='Name')\n",
        "\n",
        "# Dropping the columns which I am not going to use:\n",
        "df.drop(['Reviewer', 'Time', 'Pictures', 'Links', 'Collections'], axis=1, inplace=True)\n",
        "df.head()"
      ],
      "execution_count": 12,
      "outputs": [
        {
          "output_type": "execute_result",
          "data": {
            "text/html": [
              "<div>\n",
              "<style scoped>\n",
              "    .dataframe tbody tr th:only-of-type {\n",
              "        vertical-align: middle;\n",
              "    }\n",
              "\n",
              "    .dataframe tbody tr th {\n",
              "        vertical-align: top;\n",
              "    }\n",
              "\n",
              "    .dataframe thead th {\n",
              "        text-align: right;\n",
              "    }\n",
              "</style>\n",
              "<table border=\"1\" class=\"dataframe\">\n",
              "  <thead>\n",
              "    <tr style=\"text-align: right;\">\n",
              "      <th></th>\n",
              "      <th>Name</th>\n",
              "      <th>Review</th>\n",
              "      <th>Rating</th>\n",
              "      <th>Metadata</th>\n",
              "      <th>Cost</th>\n",
              "      <th>Cuisines</th>\n",
              "      <th>Timings</th>\n",
              "    </tr>\n",
              "  </thead>\n",
              "  <tbody>\n",
              "    <tr>\n",
              "      <th>0</th>\n",
              "      <td>Beyond Flavours</td>\n",
              "      <td>The ambience was good, food was quite good . h...</td>\n",
              "      <td>5</td>\n",
              "      <td>1 Review , 2 Followers</td>\n",
              "      <td>800</td>\n",
              "      <td>Chinese, Continental, Kebab, European, South I...</td>\n",
              "      <td>12noon to 3:30pm, 6:30pm to 11:30pm (Mon-Sun)</td>\n",
              "    </tr>\n",
              "    <tr>\n",
              "      <th>1</th>\n",
              "      <td>Beyond Flavours</td>\n",
              "      <td>Ambience is too good for a pleasant evening. S...</td>\n",
              "      <td>5</td>\n",
              "      <td>3 Reviews , 2 Followers</td>\n",
              "      <td>800</td>\n",
              "      <td>Chinese, Continental, Kebab, European, South I...</td>\n",
              "      <td>12noon to 3:30pm, 6:30pm to 11:30pm (Mon-Sun)</td>\n",
              "    </tr>\n",
              "    <tr>\n",
              "      <th>2</th>\n",
              "      <td>Beyond Flavours</td>\n",
              "      <td>A must try.. great food great ambience. Thnx f...</td>\n",
              "      <td>5</td>\n",
              "      <td>2 Reviews , 3 Followers</td>\n",
              "      <td>800</td>\n",
              "      <td>Chinese, Continental, Kebab, European, South I...</td>\n",
              "      <td>12noon to 3:30pm, 6:30pm to 11:30pm (Mon-Sun)</td>\n",
              "    </tr>\n",
              "    <tr>\n",
              "      <th>3</th>\n",
              "      <td>Beyond Flavours</td>\n",
              "      <td>Soumen das and Arun was a great guy. Only beca...</td>\n",
              "      <td>5</td>\n",
              "      <td>1 Review , 1 Follower</td>\n",
              "      <td>800</td>\n",
              "      <td>Chinese, Continental, Kebab, European, South I...</td>\n",
              "      <td>12noon to 3:30pm, 6:30pm to 11:30pm (Mon-Sun)</td>\n",
              "    </tr>\n",
              "    <tr>\n",
              "      <th>4</th>\n",
              "      <td>Beyond Flavours</td>\n",
              "      <td>Food is good.we ordered Kodi drumsticks and ba...</td>\n",
              "      <td>5</td>\n",
              "      <td>3 Reviews , 2 Followers</td>\n",
              "      <td>800</td>\n",
              "      <td>Chinese, Continental, Kebab, European, South I...</td>\n",
              "      <td>12noon to 3:30pm, 6:30pm to 11:30pm (Mon-Sun)</td>\n",
              "    </tr>\n",
              "  </tbody>\n",
              "</table>\n",
              "</div>"
            ],
            "text/plain": [
              "              Name  ...                                        Timings\n",
              "0  Beyond Flavours  ...  12noon to 3:30pm, 6:30pm to 11:30pm (Mon-Sun)\n",
              "1  Beyond Flavours  ...  12noon to 3:30pm, 6:30pm to 11:30pm (Mon-Sun)\n",
              "2  Beyond Flavours  ...  12noon to 3:30pm, 6:30pm to 11:30pm (Mon-Sun)\n",
              "3  Beyond Flavours  ...  12noon to 3:30pm, 6:30pm to 11:30pm (Mon-Sun)\n",
              "4  Beyond Flavours  ...  12noon to 3:30pm, 6:30pm to 11:30pm (Mon-Sun)\n",
              "\n",
              "[5 rows x 7 columns]"
            ]
          },
          "metadata": {
            "tags": []
          },
          "execution_count": 12
        }
      ]
    },
    {
      "cell_type": "code",
      "metadata": {
        "id": "5tU32V-iXRCR",
        "outputId": "fdf74a6b-10b4-45e2-9c3a-4cd005ebe365",
        "colab": {
          "base_uri": "https://localhost:8080/",
          "height": 252
        }
      },
      "source": [
        "df['Cost'] = df['Cost'].str.replace(',', '').astype(int)\n",
        "df['Rating'] = df['Rating'].str.replace('Like', '1').astype(float)\n",
        "df.info()"
      ],
      "execution_count": 13,
      "outputs": [
        {
          "output_type": "stream",
          "text": [
            "<class 'pandas.core.frame.DataFrame'>\n",
            "Int64Index: 10000 entries, 0 to 9999\n",
            "Data columns (total 7 columns):\n",
            " #   Column    Non-Null Count  Dtype  \n",
            "---  ------    --------------  -----  \n",
            " 0   Name      10000 non-null  object \n",
            " 1   Review    9955 non-null   object \n",
            " 2   Rating    9962 non-null   float64\n",
            " 3   Metadata  9962 non-null   object \n",
            " 4   Cost      10000 non-null  int64  \n",
            " 5   Cuisines  10000 non-null  object \n",
            " 6   Timings   9900 non-null   object \n",
            "dtypes: float64(1), int64(1), object(5)\n",
            "memory usage: 625.0+ KB\n"
          ],
          "name": "stdout"
        }
      ]
    },
    {
      "cell_type": "code",
      "metadata": {
        "id": "AN6AngCKXU1y",
        "outputId": "7cd166c6-b598-48a0-836a-1aee7ebff6c7",
        "colab": {
          "base_uri": "https://localhost:8080/",
          "height": 218
        }
      },
      "source": [
        "print('Nu of data inputs:', len(df))\n",
        "print('\\nNu of NaN values for each column:\\n')\n",
        "print(df.isnull().sum())"
      ],
      "execution_count": 14,
      "outputs": [
        {
          "output_type": "stream",
          "text": [
            "Nu of data inputs: 10000\n",
            "\n",
            "Nu of NaN values for each column:\n",
            "\n",
            "Name          0\n",
            "Review       45\n",
            "Rating       38\n",
            "Metadata     38\n",
            "Cost          0\n",
            "Cuisines      0\n",
            "Timings     100\n",
            "dtype: int64\n"
          ],
          "name": "stdout"
        }
      ]
    },
    {
      "cell_type": "code",
      "metadata": {
        "id": "11kftMhyXZXH",
        "outputId": "30af3cbb-6b24-46d5-d8af-4f22149559e1",
        "colab": {
          "base_uri": "https://localhost:8080/",
          "height": 67
        }
      },
      "source": [
        "df['Name'][df['Rating'].isnull() == True].value_counts()"
      ],
      "execution_count": 15,
      "outputs": [
        {
          "output_type": "execute_result",
          "data": {
            "text/plain": [
              "American Wild Wings    23\n",
              "Arena Eleven           15\n",
              "Name: Name, dtype: int64"
            ]
          },
          "metadata": {
            "tags": []
          },
          "execution_count": 15
        }
      ]
    },
    {
      "cell_type": "code",
      "metadata": {
        "id": "1O7xAqL6XfKH",
        "outputId": "0973cd45-65e7-4c59-a633-cc078bce4fc2",
        "colab": {
          "base_uri": "https://localhost:8080/",
          "height": 67
        }
      },
      "source": [
        "print('Mean of Rating for American Wild Wings: ', df['Rating'][df['Name'] == 'American Wild Wings'].mean())\n",
        "print('Mean of Rating for Arena Eleven: ', df['Rating'][df['Name'] == 'Arena Eleven'].mean())\n",
        "print('Overall Mean of Ratings: ', df['Rating'].mean())"
      ],
      "execution_count": 16,
      "outputs": [
        {
          "output_type": "stream",
          "text": [
            "Mean of Rating for American Wild Wings:  3.9740259740259742\n",
            "Mean of Rating for Arena Eleven:  4.117647058823529\n",
            "Overall Mean of Ratings:  3.6007829753061635\n"
          ],
          "name": "stdout"
        }
      ]
    },
    {
      "cell_type": "code",
      "metadata": {
        "id": "eZYx8GhjXjmU",
        "outputId": "a8ca3863-2d95-47cc-97a9-04d3cdc1b543",
        "colab": {
          "base_uri": "https://localhost:8080/",
          "height": 151
        }
      },
      "source": [
        "df['Rating'].fillna(4, inplace=True)\n",
        "\n",
        "# Changing NaN reviews by '-'\n",
        "df['Review'] = df['Review'].fillna('-')\n",
        "df.isnull().sum()"
      ],
      "execution_count": 17,
      "outputs": [
        {
          "output_type": "execute_result",
          "data": {
            "text/plain": [
              "Name          0\n",
              "Review        0\n",
              "Rating        0\n",
              "Metadata     38\n",
              "Cost          0\n",
              "Cuisines      0\n",
              "Timings     100\n",
              "dtype: int64"
            ]
          },
          "metadata": {
            "tags": []
          },
          "execution_count": 17
        }
      ]
    },
    {
      "cell_type": "code",
      "metadata": {
        "id": "zQkv3jSfXnVU",
        "outputId": "364481d3-42ae-49d0-e794-10e3f1ba9442",
        "colab": {
          "base_uri": "https://localhost:8080/",
          "height": 101
        }
      },
      "source": [
        "df['Metadata'].fillna('0 Review , 0 Follower', inplace=True)\n",
        "\n",
        "# Standardizing strings\n",
        "df['Metadata'] = df['Metadata'].str.replace('Reviews', 'Review')\n",
        "df['Metadata'] = df['Metadata'].str.replace('Followers', 'Follower')\n",
        "\n",
        "df['Metadata'][df['Metadata'].str.endswith('w')] = df['Metadata'][df['Metadata'].str.endswith('w')] + ' , - Follower'\n",
        "\n",
        "# Splitting into two columns\n",
        "df[['Reviews', 'Followers']] = df['Metadata'].str.split(' , ', expand=True)\n",
        "\n",
        "# Erasing wording from the columns\n",
        "df['Reviews'] = df['Reviews'].str.replace('Review', '')\n",
        "df['Reviews'] = df['Reviews'].str.replace('Posts', '')\n",
        "df['Reviews'] = df['Reviews'].str.replace('Post', '')\n",
        "\n",
        "df['Followers'] = df['Followers'].str.replace('Follower', '')\n",
        "df['Followers'] = df['Followers'].str.replace('-', '0')\n",
        "\n",
        "# Changing str values to integers\n",
        "df[['Reviews', 'Followers']] = df[['Reviews', 'Followers']].astype(int)\n",
        "\n",
        "# Dropping the initial column\n",
        "df.drop(['Metadata'], axis=1, inplace=True)\n",
        "\n",
        "# Sorting restaurants with their names and costs\n",
        "df = df.sort_values(['Name', 'Cost'], ascending=False).reset_index()\n",
        "df.drop('index', axis=1, inplace=True)"
      ],
      "execution_count": 18,
      "outputs": [
        {
          "output_type": "stream",
          "text": [
            "/usr/local/lib/python3.6/dist-packages/ipykernel_launcher.py:7: SettingWithCopyWarning: \n",
            "A value is trying to be set on a copy of a slice from a DataFrame\n",
            "\n",
            "See the caveats in the documentation: https://pandas.pydata.org/pandas-docs/stable/user_guide/indexing.html#returning-a-view-versus-a-copy\n",
            "  import sys\n"
          ],
          "name": "stderr"
        }
      ]
    },
    {
      "cell_type": "code",
      "metadata": {
        "id": "tmUblQrZXw1U",
        "outputId": "3f09b496-7214-42da-cf53-1e947a3011a9",
        "colab": {
          "base_uri": "https://localhost:8080/",
          "height": 195
        }
      },
      "source": [
        "df.head()"
      ],
      "execution_count": 19,
      "outputs": [
        {
          "output_type": "execute_result",
          "data": {
            "text/html": [
              "<div>\n",
              "<style scoped>\n",
              "    .dataframe tbody tr th:only-of-type {\n",
              "        vertical-align: middle;\n",
              "    }\n",
              "\n",
              "    .dataframe tbody tr th {\n",
              "        vertical-align: top;\n",
              "    }\n",
              "\n",
              "    .dataframe thead th {\n",
              "        text-align: right;\n",
              "    }\n",
              "</style>\n",
              "<table border=\"1\" class=\"dataframe\">\n",
              "  <thead>\n",
              "    <tr style=\"text-align: right;\">\n",
              "      <th></th>\n",
              "      <th>Name</th>\n",
              "      <th>Review</th>\n",
              "      <th>Rating</th>\n",
              "      <th>Cost</th>\n",
              "      <th>Cuisines</th>\n",
              "      <th>Timings</th>\n",
              "      <th>Reviews</th>\n",
              "      <th>Followers</th>\n",
              "    </tr>\n",
              "  </thead>\n",
              "  <tbody>\n",
              "    <tr>\n",
              "      <th>0</th>\n",
              "      <td>eat.fit</td>\n",
              "      <td>I had ordered gobi methi paratha.. it was ok. ...</td>\n",
              "      <td>3.0</td>\n",
              "      <td>500</td>\n",
              "      <td>Healthy Food, North Indian, Continental, South...</td>\n",
              "      <td>7 AM to 10 PM</td>\n",
              "      <td>1</td>\n",
              "      <td>1</td>\n",
              "    </tr>\n",
              "    <tr>\n",
              "      <th>1</th>\n",
              "      <td>eat.fit</td>\n",
              "      <td>Food was good but it was all leaking from the ...</td>\n",
              "      <td>3.0</td>\n",
              "      <td>500</td>\n",
              "      <td>Healthy Food, North Indian, Continental, South...</td>\n",
              "      <td>7 AM to 10 PM</td>\n",
              "      <td>1</td>\n",
              "      <td>0</td>\n",
              "    </tr>\n",
              "    <tr>\n",
              "      <th>2</th>\n",
              "      <td>eat.fit</td>\n",
              "      <td>Intially, yes,the food was really good they we...</td>\n",
              "      <td>3.0</td>\n",
              "      <td>500</td>\n",
              "      <td>Healthy Food, North Indian, Continental, South...</td>\n",
              "      <td>7 AM to 10 PM</td>\n",
              "      <td>9</td>\n",
              "      <td>0</td>\n",
              "    </tr>\n",
              "    <tr>\n",
              "      <th>3</th>\n",
              "      <td>eat.fit</td>\n",
              "      <td>Hyderabad's most worst and ugliest biryani i h...</td>\n",
              "      <td>1.0</td>\n",
              "      <td>500</td>\n",
              "      <td>Healthy Food, North Indian, Continental, South...</td>\n",
              "      <td>7 AM to 10 PM</td>\n",
              "      <td>1</td>\n",
              "      <td>1</td>\n",
              "    </tr>\n",
              "    <tr>\n",
              "      <th>4</th>\n",
              "      <td>eat.fit</td>\n",
              "      <td>Very good at quality guys..even packaging is e...</td>\n",
              "      <td>4.0</td>\n",
              "      <td>500</td>\n",
              "      <td>Healthy Food, North Indian, Continental, South...</td>\n",
              "      <td>7 AM to 10 PM</td>\n",
              "      <td>10</td>\n",
              "      <td>1</td>\n",
              "    </tr>\n",
              "  </tbody>\n",
              "</table>\n",
              "</div>"
            ],
            "text/plain": [
              "      Name  ... Followers\n",
              "0  eat.fit  ...         1\n",
              "1  eat.fit  ...         0\n",
              "2  eat.fit  ...         0\n",
              "3  eat.fit  ...         1\n",
              "4  eat.fit  ...         1\n",
              "\n",
              "[5 rows x 8 columns]"
            ]
          },
          "metadata": {
            "tags": []
          },
          "execution_count": 19
        }
      ]
    },
    {
      "cell_type": "code",
      "metadata": {
        "id": "RyneyyJRXz8a",
        "outputId": "36d54185-c6d8-4d76-eb68-d593e96088b3",
        "colab": {
          "base_uri": "https://localhost:8080/",
          "height": 521
        }
      },
      "source": [
        "restaurants = list(df['Name'].unique())\n",
        "df['Mean Rating'] = 0\n",
        "df['Mean Reviews'] = 0\n",
        "df['Mean Followers'] = 0\n",
        "\n",
        "for i in range(len(restaurants)):\n",
        "    df['Mean Rating'][df['Name'] == restaurants[i]] = df['Rating'][df['Name'] == restaurants[i]].mean()\n",
        "    df['Mean Reviews'][df['Name'] == restaurants[i]] = df['Reviews'][df['Name'] == restaurants[i]].mean()\n",
        "    df['Mean Followers'][df['Name'] == restaurants[i]] = df['Followers'][df['Name'] == restaurants[i]].mean()"
      ],
      "execution_count": 20,
      "outputs": [
        {
          "output_type": "stream",
          "text": [
            "/usr/local/lib/python3.6/dist-packages/ipykernel_launcher.py:7: SettingWithCopyWarning: \n",
            "A value is trying to be set on a copy of a slice from a DataFrame\n",
            "\n",
            "See the caveats in the documentation: https://pandas.pydata.org/pandas-docs/stable/user_guide/indexing.html#returning-a-view-versus-a-copy\n",
            "  import sys\n",
            "/usr/local/lib/python3.6/dist-packages/ipykernel_launcher.py:8: SettingWithCopyWarning: \n",
            "A value is trying to be set on a copy of a slice from a DataFrame\n",
            "\n",
            "See the caveats in the documentation: https://pandas.pydata.org/pandas-docs/stable/user_guide/indexing.html#returning-a-view-versus-a-copy\n",
            "  \n",
            "/usr/local/lib/python3.6/dist-packages/ipykernel_launcher.py:9: SettingWithCopyWarning: \n",
            "A value is trying to be set on a copy of a slice from a DataFrame\n",
            "\n",
            "See the caveats in the documentation: https://pandas.pydata.org/pandas-docs/stable/user_guide/indexing.html#returning-a-view-versus-a-copy\n",
            "  if __name__ == '__main__':\n",
            "/usr/local/lib/python3.6/dist-packages/ipykernel_launcher.py:7: SettingWithCopyWarning: \n",
            "A value is trying to be set on a copy of a slice from a DataFrame\n",
            "\n",
            "See the caveats in the documentation: https://pandas.pydata.org/pandas-docs/stable/user_guide/indexing.html#returning-a-view-versus-a-copy\n",
            "  import sys\n",
            "/usr/local/lib/python3.6/dist-packages/ipykernel_launcher.py:8: SettingWithCopyWarning: \n",
            "A value is trying to be set on a copy of a slice from a DataFrame\n",
            "\n",
            "See the caveats in the documentation: https://pandas.pydata.org/pandas-docs/stable/user_guide/indexing.html#returning-a-view-versus-a-copy\n",
            "  \n",
            "/usr/local/lib/python3.6/dist-packages/ipykernel_launcher.py:9: SettingWithCopyWarning: \n",
            "A value is trying to be set on a copy of a slice from a DataFrame\n",
            "\n",
            "See the caveats in the documentation: https://pandas.pydata.org/pandas-docs/stable/user_guide/indexing.html#returning-a-view-versus-a-copy\n",
            "  if __name__ == '__main__':\n"
          ],
          "name": "stderr"
        }
      ]
    },
    {
      "cell_type": "code",
      "metadata": {
        "id": "FH4SVNAcX6W4",
        "outputId": "cf36b7eb-3085-49fe-bcd6-ad6883ff3590",
        "colab": {
          "base_uri": "https://localhost:8080/",
          "height": 203
        }
      },
      "source": [
        "df.sample(3)"
      ],
      "execution_count": 21,
      "outputs": [
        {
          "output_type": "execute_result",
          "data": {
            "text/html": [
              "<div>\n",
              "<style scoped>\n",
              "    .dataframe tbody tr th:only-of-type {\n",
              "        vertical-align: middle;\n",
              "    }\n",
              "\n",
              "    .dataframe tbody tr th {\n",
              "        vertical-align: top;\n",
              "    }\n",
              "\n",
              "    .dataframe thead th {\n",
              "        text-align: right;\n",
              "    }\n",
              "</style>\n",
              "<table border=\"1\" class=\"dataframe\">\n",
              "  <thead>\n",
              "    <tr style=\"text-align: right;\">\n",
              "      <th></th>\n",
              "      <th>Name</th>\n",
              "      <th>Review</th>\n",
              "      <th>Rating</th>\n",
              "      <th>Cost</th>\n",
              "      <th>Cuisines</th>\n",
              "      <th>Timings</th>\n",
              "      <th>Reviews</th>\n",
              "      <th>Followers</th>\n",
              "      <th>Mean Rating</th>\n",
              "      <th>Mean Reviews</th>\n",
              "      <th>Mean Followers</th>\n",
              "    </tr>\n",
              "  </thead>\n",
              "  <tbody>\n",
              "    <tr>\n",
              "      <th>6977</th>\n",
              "      <td>Driven Cafe</td>\n",
              "      <td>Well been to this place for 4 times now, the r...</td>\n",
              "      <td>4.0</td>\n",
              "      <td>600</td>\n",
              "      <td>Cafe, Fast Food, Beverages</td>\n",
              "      <td>4 AM to 12 Midnight</td>\n",
              "      <td>84</td>\n",
              "      <td>183</td>\n",
              "      <td>3.745</td>\n",
              "      <td>43.78</td>\n",
              "      <td>251.66</td>\n",
              "    </tr>\n",
              "    <tr>\n",
              "      <th>2675</th>\n",
              "      <td>SKYHY</td>\n",
              "      <td>This place is okay at best. The drinks are too...</td>\n",
              "      <td>2.0</td>\n",
              "      <td>1400</td>\n",
              "      <td>North Indian, Chinese, Continental</td>\n",
              "      <td>12 Noon to 12 Midnight (Mon-Thu, Sun), 12 Noon...</td>\n",
              "      <td>6</td>\n",
              "      <td>61</td>\n",
              "      <td>3.370</td>\n",
              "      <td>18.28</td>\n",
              "      <td>79.16</td>\n",
              "    </tr>\n",
              "    <tr>\n",
              "      <th>7844</th>\n",
              "      <td>Club Rogue</td>\n",
              "      <td>Over all good experience but\\n\\nCons: Entry ON...</td>\n",
              "      <td>4.0</td>\n",
              "      <td>900</td>\n",
              "      <td>North Indian, Fast Food</td>\n",
              "      <td>11 AM to 12 Midnight</td>\n",
              "      <td>3</td>\n",
              "      <td>2</td>\n",
              "      <td>2.880</td>\n",
              "      <td>20.85</td>\n",
              "      <td>124.61</td>\n",
              "    </tr>\n",
              "  </tbody>\n",
              "</table>\n",
              "</div>"
            ],
            "text/plain": [
              "             Name  ... Mean Followers\n",
              "6977  Driven Cafe  ...         251.66\n",
              "2675        SKYHY  ...          79.16\n",
              "7844   Club Rogue  ...         124.61\n",
              "\n",
              "[3 rows x 11 columns]"
            ]
          },
          "metadata": {
            "tags": []
          },
          "execution_count": 21
        }
      ]
    },
    {
      "cell_type": "code",
      "metadata": {
        "id": "X_OnmaiIX9te",
        "outputId": "eb9b5178-837d-4e1c-bcfc-ecb19f1e1473",
        "colab": {
          "base_uri": "https://localhost:8080/",
          "height": 203
        }
      },
      "source": [
        "from sklearn.preprocessing import MinMaxScaler\n",
        "\n",
        "scaler = MinMaxScaler(feature_range = (1,5))\n",
        "\n",
        "df[['Mean Rating', 'Mean Reviews', 'Mean Followers']] = scaler.fit_transform(df[['Mean Rating', 'Mean Reviews', 'Mean Followers']]).round(2)\n",
        "\n",
        "df.sample(3)"
      ],
      "execution_count": 22,
      "outputs": [
        {
          "output_type": "execute_result",
          "data": {
            "text/html": [
              "<div>\n",
              "<style scoped>\n",
              "    .dataframe tbody tr th:only-of-type {\n",
              "        vertical-align: middle;\n",
              "    }\n",
              "\n",
              "    .dataframe tbody tr th {\n",
              "        vertical-align: top;\n",
              "    }\n",
              "\n",
              "    .dataframe thead th {\n",
              "        text-align: right;\n",
              "    }\n",
              "</style>\n",
              "<table border=\"1\" class=\"dataframe\">\n",
              "  <thead>\n",
              "    <tr style=\"text-align: right;\">\n",
              "      <th></th>\n",
              "      <th>Name</th>\n",
              "      <th>Review</th>\n",
              "      <th>Rating</th>\n",
              "      <th>Cost</th>\n",
              "      <th>Cuisines</th>\n",
              "      <th>Timings</th>\n",
              "      <th>Reviews</th>\n",
              "      <th>Followers</th>\n",
              "      <th>Mean Rating</th>\n",
              "      <th>Mean Reviews</th>\n",
              "      <th>Mean Followers</th>\n",
              "    </tr>\n",
              "  </thead>\n",
              "  <tbody>\n",
              "    <tr>\n",
              "      <th>3460</th>\n",
              "      <td>Owm Nom Nom</td>\n",
              "      <td>good</td>\n",
              "      <td>4.0</td>\n",
              "      <td>900</td>\n",
              "      <td>Chinese, Biryani, Andhra, North Indian</td>\n",
              "      <td>12Noon to 11:30PM (Mon-Sun)</td>\n",
              "      <td>1</td>\n",
              "      <td>0</td>\n",
              "      <td>2.44</td>\n",
              "      <td>1.68</td>\n",
              "      <td>1.38</td>\n",
              "    </tr>\n",
              "    <tr>\n",
              "      <th>6179</th>\n",
              "      <td>Gal Punjab Di</td>\n",
              "      <td>Average place with average food and ambience. ...</td>\n",
              "      <td>3.0</td>\n",
              "      <td>800</td>\n",
              "      <td>North Indian, Continental</td>\n",
              "      <td>11:55 AM to 4 PM, 7 PM to 11:15 PM</td>\n",
              "      <td>4</td>\n",
              "      <td>22</td>\n",
              "      <td>2.95</td>\n",
              "      <td>2.75</td>\n",
              "      <td>2.24</td>\n",
              "    </tr>\n",
              "    <tr>\n",
              "      <th>33</th>\n",
              "      <td>eat.fit</td>\n",
              "      <td>Ordered bread omelette with roast potato wedge...</td>\n",
              "      <td>2.0</td>\n",
              "      <td>500</td>\n",
              "      <td>Healthy Food, North Indian, Continental, South...</td>\n",
              "      <td>7 AM to 10 PM</td>\n",
              "      <td>60</td>\n",
              "      <td>16</td>\n",
              "      <td>2.29</td>\n",
              "      <td>2.54</td>\n",
              "      <td>2.47</td>\n",
              "    </tr>\n",
              "  </tbody>\n",
              "</table>\n",
              "</div>"
            ],
            "text/plain": [
              "               Name  ... Mean Followers\n",
              "3460    Owm Nom Nom  ...           1.38\n",
              "6179  Gal Punjab Di  ...           2.24\n",
              "33          eat.fit  ...           2.47\n",
              "\n",
              "[3 rows x 11 columns]"
            ]
          },
          "metadata": {
            "tags": []
          },
          "execution_count": 22
        }
      ]
    },
    {
      "cell_type": "code",
      "metadata": {
        "id": "bSyO9WpzYB2Y"
      },
      "source": [
        "import re\n",
        "from nltk.corpus import stopwords\n",
        "from sklearn.metrics.pairwise import linear_kernel\n",
        "from sklearn.feature_extraction.text import CountVectorizer\n",
        "from sklearn.feature_extraction.text import TfidfVectorizer"
      ],
      "execution_count": 23,
      "outputs": []
    },
    {
      "cell_type": "code",
      "metadata": {
        "id": "WuE0w302YGO1",
        "outputId": "64ad8ea4-7cbb-429a-9d49-9c74ed133dbf",
        "colab": {
          "base_uri": "https://localhost:8080/",
          "height": 195
        }
      },
      "source": [
        "df[['Review', 'Cuisines']].sample(5)"
      ],
      "execution_count": 24,
      "outputs": [
        {
          "output_type": "execute_result",
          "data": {
            "text/html": [
              "<div>\n",
              "<style scoped>\n",
              "    .dataframe tbody tr th:only-of-type {\n",
              "        vertical-align: middle;\n",
              "    }\n",
              "\n",
              "    .dataframe tbody tr th {\n",
              "        vertical-align: top;\n",
              "    }\n",
              "\n",
              "    .dataframe thead th {\n",
              "        text-align: right;\n",
              "    }\n",
              "</style>\n",
              "<table border=\"1\" class=\"dataframe\">\n",
              "  <thead>\n",
              "    <tr style=\"text-align: right;\">\n",
              "      <th></th>\n",
              "      <th>Review</th>\n",
              "      <th>Cuisines</th>\n",
              "    </tr>\n",
              "  </thead>\n",
              "  <tbody>\n",
              "    <tr>\n",
              "      <th>1021</th>\n",
              "      <td>Being a pizza fan, I love to try a lot of pizz...</td>\n",
              "      <td>Bakery</td>\n",
              "    </tr>\n",
              "    <tr>\n",
              "      <th>6459</th>\n",
              "      <td>This place serves buffet for lunch..It is a va...</td>\n",
              "      <td>Asian, Mediterranean, North Indian, Desserts</td>\n",
              "    </tr>\n",
              "    <tr>\n",
              "      <th>3080</th>\n",
              "      <td>Non veg is worst. Ambience and service is also...</td>\n",
              "      <td>Andhra, South Indian, North Indian</td>\n",
              "    </tr>\n",
              "    <tr>\n",
              "      <th>3575</th>\n",
              "      <td>Decent place. We went there on a Saturday nigh...</td>\n",
              "      <td>Asian, Continental, North Indian, Chinese, Med...</td>\n",
              "    </tr>\n",
              "    <tr>\n",
              "      <th>7622</th>\n",
              "      <td>Basically i Hail from kolkata...my in-law gave...</td>\n",
              "      <td>Ice Cream, Desserts</td>\n",
              "    </tr>\n",
              "  </tbody>\n",
              "</table>\n",
              "</div>"
            ],
            "text/plain": [
              "                                                 Review                                           Cuisines\n",
              "1021  Being a pizza fan, I love to try a lot of pizz...                                             Bakery\n",
              "6459  This place serves buffet for lunch..It is a va...       Asian, Mediterranean, North Indian, Desserts\n",
              "3080  Non veg is worst. Ambience and service is also...                 Andhra, South Indian, North Indian\n",
              "3575  Decent place. We went there on a Saturday nigh...  Asian, Continental, North Indian, Chinese, Med...\n",
              "7622  Basically i Hail from kolkata...my in-law gave...                                Ice Cream, Desserts"
            ]
          },
          "metadata": {
            "tags": []
          },
          "execution_count": 24
        }
      ]
    },
    {
      "cell_type": "code",
      "metadata": {
        "id": "JBgaQgBtYYDO",
        "outputId": "1b31d62f-9ba3-4702-f4d9-53bf300d4759",
        "colab": {
          "base_uri": "https://localhost:8080/",
          "height": 50
        }
      },
      "source": [
        "import nltk\n",
        "nltk.download('stopwords')\n",
        "  \n",
        "\n",
        "from nltk.corpus import stopwords\n",
        "# Define symbols to be replaced by space\n",
        "replace_space = re.compile('[/(){}\\[\\]\\|@,;]')\n",
        "# Define symbols to be removed\n",
        "remove_symbols = re.compile('[^0-9a-z #+_]')\n",
        "# Define stopwords\n",
        "stopwords = set(stopwords.words('english'))\n",
        "\n",
        "def text_preprocessing(text):\n",
        "    # Lowercase all the letters\n",
        "    text = text.lower()\n",
        "    \n",
        "    # Replace these symbols with space\n",
        "    text = replace_space.sub(' ', text)\n",
        "    \n",
        "    # Remove these symbols\n",
        "    text = remove_symbols.sub('', text)\n",
        "    \n",
        "    # Remove stopwords\n",
        "    text = ' '.join(word for word in text.split() if word not in stopwords)\n",
        "    \n",
        "    return text"
      ],
      "execution_count": 31,
      "outputs": [
        {
          "output_type": "stream",
          "text": [
            "[nltk_data] Downloading package stopwords to /root/nltk_data...\n",
            "[nltk_data]   Unzipping corpora/stopwords.zip.\n"
          ],
          "name": "stdout"
        }
      ]
    },
    {
      "cell_type": "code",
      "metadata": {
        "id": "KtRVkP0mYdVi"
      },
      "source": [
        "df['Review'] = df['Review'].apply(text_preprocessing)\n",
        "df['Cuisines'] = df['Cuisines'].apply(text_preprocessing)"
      ],
      "execution_count": 32,
      "outputs": []
    },
    {
      "cell_type": "code",
      "metadata": {
        "id": "KvAIvqvbdKU2",
        "outputId": "375964ca-a507-4ec2-8d48-504448c88e3a",
        "colab": {
          "base_uri": "https://localhost:8080/",
          "height": 195
        }
      },
      "source": [
        "df[['Review','Cuisines']].sample(5)"
      ],
      "execution_count": 33,
      "outputs": [
        {
          "output_type": "execute_result",
          "data": {
            "text/html": [
              "<div>\n",
              "<style scoped>\n",
              "    .dataframe tbody tr th:only-of-type {\n",
              "        vertical-align: middle;\n",
              "    }\n",
              "\n",
              "    .dataframe tbody tr th {\n",
              "        vertical-align: top;\n",
              "    }\n",
              "\n",
              "    .dataframe thead th {\n",
              "        text-align: right;\n",
              "    }\n",
              "</style>\n",
              "<table border=\"1\" class=\"dataframe\">\n",
              "  <thead>\n",
              "    <tr style=\"text-align: right;\">\n",
              "      <th></th>\n",
              "      <th>Review</th>\n",
              "      <th>Cuisines</th>\n",
              "    </tr>\n",
              "  </thead>\n",
              "  <tbody>\n",
              "    <tr>\n",
              "      <th>1828</th>\n",
              "      <td>ordered chicken tikka kebab chicken butter mas...</td>\n",
              "      <td>north indian burger kebab</td>\n",
              "    </tr>\n",
              "    <tr>\n",
              "      <th>3237</th>\n",
              "      <td>bad dine experience restaurant booked place of...</td>\n",
              "      <td>biryani north indian chinese</td>\n",
              "    </tr>\n",
              "    <tr>\n",
              "      <th>3675</th>\n",
              "      <td>self friends ordered goods restaurant served d...</td>\n",
              "      <td>north indian chinese continental biryani</td>\n",
              "    </tr>\n",
              "    <tr>\n",
              "      <th>1516</th>\n",
              "      <td>good nice sunday brunch buffet two 1500 inr wo...</td>\n",
              "      <td>seafood goan north indian continental asian</td>\n",
              "    </tr>\n",
              "    <tr>\n",
              "      <th>9606</th>\n",
              "      <td>excellent service nandan rahmat ripan feeling ...</td>\n",
              "      <td>european mediterranean north indian</td>\n",
              "    </tr>\n",
              "  </tbody>\n",
              "</table>\n",
              "</div>"
            ],
            "text/plain": [
              "                                                 Review                                     Cuisines\n",
              "1828  ordered chicken tikka kebab chicken butter mas...                    north indian burger kebab\n",
              "3237  bad dine experience restaurant booked place of...                 biryani north indian chinese\n",
              "3675  self friends ordered goods restaurant served d...     north indian chinese continental biryani\n",
              "1516  good nice sunday brunch buffet two 1500 inr wo...  seafood goan north indian continental asian\n",
              "9606  excellent service nandan rahmat ripan feeling ...          european mediterranean north indian"
            ]
          },
          "metadata": {
            "tags": []
          },
          "execution_count": 33
        }
      ]
    },
    {
      "cell_type": "code",
      "metadata": {
        "id": "8HeWcp8rdPQt",
        "outputId": "a0b5d541-c08e-41f6-d76b-4045bf0c3bb9",
        "colab": {
          "base_uri": "https://localhost:8080/",
          "height": 1000
        }
      },
      "source": [
        "restaurant_names = list(df['Name'].unique())\n",
        "restaurant_names"
      ],
      "execution_count": 34,
      "outputs": [
        {
          "output_type": "execute_result",
          "data": {
            "text/plain": [
              "['eat.fit',\n",
              " \"Zing's Northeast Kitchen\",\n",
              " 'Zega - Sheraton Hyderabad Hotel',\n",
              " 'Yum Yum Tree - The Arabian Food Court',\n",
              " 'Urban Asia - Kitchen & Bar',\n",
              " 'Ulavacharu',\n",
              " \"Udipi's Upahar\",\n",
              " 'Triptify',\n",
              " 'Tiki Shack',\n",
              " 'The Tilt Bar Republic',\n",
              " 'The Old Madras Baking Company',\n",
              " 'The Lal Street - Bar Exchange',\n",
              " 'The Indi Grill',\n",
              " 'The Glass Onion',\n",
              " 'The Foodie Monster Kitchen',\n",
              " \"The Fisherman's Wharf\",\n",
              " 'The Chocolate Room',\n",
              " 'Tempteys',\n",
              " 'Tandoori Food Works',\n",
              " 'T Grill',\n",
              " 'Squeeze @ The Lime',\n",
              " 'Shree Santosh Dhaba Family Restaurant',\n",
              " 'Shanghai Chef 2',\n",
              " 'Shah Ghouse Spl Shawarma',\n",
              " 'Shah Ghouse Hotel & Restaurant',\n",
              " \"Sardarji's Chaats & More\",\n",
              " 'SKYHY',\n",
              " 'Royal Spicy Restaurant',\n",
              " 'Prism Club & Kitchen',\n",
              " 'PourHouse7',\n",
              " 'Pot Pourri',\n",
              " 'Pista House',\n",
              " 'Paradise',\n",
              " 'Pakwaan Grand',\n",
              " 'Owm Nom Nom',\n",
              " 'Over The Moon Brew Company',\n",
              " 'Olive Garden',\n",
              " 'NorFest - The Dhaba',\n",
              " 'Mustang Terrace Lounge',\n",
              " 'Momos Delight',\n",
              " 'Mohammedia Shawarma',\n",
              " 'Mazzo - Marriott Executive Apartments',\n",
              " 'Mathura Vilas',\n",
              " 'Marsala Food Company',\n",
              " 'Labonel',\n",
              " 'La La Land - Bar & Kitchen',\n",
              " 'Kritunga Restaurant',\n",
              " 'Komatose - Holiday Inn Express & Suites',\n",
              " 'Khaan Saab',\n",
              " 'Karachi Cafe',\n",
              " 'Karachi Bakery',\n",
              " 'KS Bakers',\n",
              " 'KFC',\n",
              " \"Jonathan's Kitchen - Holiday Inn Express & Suites\",\n",
              " 'Hyper Local',\n",
              " 'Hyderabadi Daawat',\n",
              " 'Hyderabad Chefs',\n",
              " 'Hunger Maggi Point',\n",
              " 'Hotel Zara Hi-Fi',\n",
              " 'Hitech Bawarchi Food Zone',\n",
              " 'Green Bawarchi Restaurant',\n",
              " 'Gal Punjab Di',\n",
              " \"GD's\",\n",
              " 'Frio Bistro',\n",
              " 'Flechazo',\n",
              " 'Feast - Sheraton Hyderabad Hotel',\n",
              " 'Faasos',\n",
              " 'Eat India Company',\n",
              " \"Dunkin' Donuts\",\n",
              " 'Driven Cafe',\n",
              " \"Domino's Pizza\",\n",
              " 'Diners Pavilion',\n",
              " 'Dine O China',\n",
              " 'Desi Bytes',\n",
              " 'Deli 9 Bistro',\n",
              " 'Delhi-39',\n",
              " 'Cream Stone',\n",
              " 'Collage - Hyatt Hyderabad Gachibowli',\n",
              " 'Club Rogue',\n",
              " 'Chinese Pavilion',\n",
              " 'Cascade - Radisson Hyderabad Hitec City',\n",
              " 'Cafe Eclat',\n",
              " 'Biryanis And More',\n",
              " 'Beyond Flavours',\n",
              " 'Being Hungry',\n",
              " 'Behrouz Biryani',\n",
              " 'Barbeque Nation',\n",
              " 'Banana Leaf Multicuisine Restaurant',\n",
              " 'B-Dubs',\n",
              " 'Asian Meal Box',\n",
              " 'Aromas@11SIX',\n",
              " 'Arena Eleven',\n",
              " 'Amul',\n",
              " 'American Wild Wings',\n",
              " 'Al Saba Restaurant',\n",
              " 'Absolute Sizzlers',\n",
              " \"AB's - Absolute Barbecues\",\n",
              " \"3B's - Buddies, Bar & Barbecue\",\n",
              " '13 Dhaba',\n",
              " '10 Downing Street']"
            ]
          },
          "metadata": {
            "tags": []
          },
          "execution_count": 34
        }
      ]
    },
    {
      "cell_type": "code",
      "metadata": {
        "id": "wHc8urPbdTYl",
        "outputId": "c37cb674-57a5-423c-c36a-99bd9a1e71e4",
        "colab": {
          "base_uri": "https://localhost:8080/",
          "height": 350
        }
      },
      "source": [
        "import matplotlib.pyplot as plt\n",
        "import seaborn as sns\n",
        "df_rating = df.drop_duplicates(subset='Name')\n",
        "df_rating = df_rating.sort_values(by='Mean Rating', ascending=False).head(10)\n",
        "\n",
        "plt.figure(figsize=(7,5))\n",
        "sns.barplot(data=df_rating, x='Mean Rating', y='Name', palette='RdBu')\n",
        "plt.title('Top Rated 10 Restaurants');"
      ],
      "execution_count": 37,
      "outputs": [
        {
          "output_type": "display_data",
          "data": {
            "image/png": "[encoded data removed]",
            "text/plain": [
              "<Figure size 504x360 with 1 Axes>"
            ]
          },
          "metadata": {
            "tags": [],
            "needs_background": "light"
          }
        }
      ]
    },
    {
      "cell_type": "code",
      "metadata": {
        "id": "SDNc9kXbdsOy",
        "outputId": "ba84bc26-7b30-465f-dbfb-0ffb5e4fe57b",
        "colab": {
          "base_uri": "https://localhost:8080/",
          "height": 350
        }
      },
      "source": [
        "df_reviews = df.drop_duplicates(subset='Name')\n",
        "df_reviews = df_reviews.sort_values(by='Mean Reviews', ascending=False).head(10)\n",
        "\n",
        "plt.figure(figsize=(7,5))\n",
        "sns.barplot(data=df_reviews, x='Mean Reviews', y='Name', palette='RdBu')\n",
        "plt.title('Top Reviewed 10 Restaurants');"
      ],
      "execution_count": 38,
      "outputs": [
        {
          "output_type": "display_data",
          "data": {
            "image/png": "[encoded data removed]",
            "text/plain": [
              "<Figure size 504x360 with 1 Axes>"
            ]
          },
          "metadata": {
            "tags": [],
            "needs_background": "light"
          }
        }
      ]
    },
    {
      "cell_type": "code",
      "metadata": {
        "id": "Tde7IiSodv1r",
        "outputId": "099be524-e9e6-4b64-f09c-ff8fd070d6ac",
        "colab": {
          "base_uri": "https://localhost:8080/",
          "height": 350
        }
      },
      "source": [
        "df_followers = df.drop_duplicates(subset='Name')\n",
        "df_followers = df_followers.sort_values(by='Mean Followers', ascending=False).head(10)\n",
        "\n",
        "plt.figure(figsize=(7,5))\n",
        "sns.barplot(data=df_followers, x='Mean Followers', y='Name', palette='RdBu')\n",
        "plt.title('Most Followed Top 10 Restaurants');"
      ],
      "execution_count": 39,
      "outputs": [
        {
          "output_type": "display_data",
          "data": {
            "image/png": "[encoded data removed]",
            "text/plain": [
              "<Figure size 504x360 with 1 Axes>"
            ]
          },
          "metadata": {
            "tags": [],
            "needs_background": "light"
          }
        }
      ]
    },
    {
      "cell_type": "code",
      "metadata": {
        "id": "XJKfSJwXd0vs"
      },
      "source": [
        "def get_top_words(column, top_nu_of_words, nu_of_word):\n",
        "    \n",
        "    vec = CountVectorizer(ngram_range= nu_of_word, stop_words='english')\n",
        "    \n",
        "    bag_of_words = vec.fit_transform(column)\n",
        "    \n",
        "    sum_words = bag_of_words.sum(axis=0)\n",
        "    \n",
        "    words_freq = [(word, sum_words[0, idx]) for word, idx in vec.vocabulary_.items()]\n",
        "    \n",
        "    words_freq =sorted(words_freq, key = lambda x: x[1], reverse=True)\n",
        "    \n",
        "    return words_freq[:top_nu_of_words]"
      ],
      "execution_count": 40,
      "outputs": []
    },
    {
      "cell_type": "code",
      "metadata": {
        "id": "MdyWTX5od5a3",
        "outputId": "37596375-465b-44a3-e60f-878f750c053e",
        "colab": {
          "base_uri": "https://localhost:8080/",
          "height": 404
        }
      },
      "source": [
        "# Top 20 two word frequencies for Cuisines\n",
        "list1 = get_top_words(df['Cuisines'], 20, (2,2))\n",
        "\n",
        "df_words1 = pd.DataFrame(list1, columns=['Word', 'Count'])\n",
        "\n",
        "plt.figure(figsize=(7,6))\n",
        "sns.barplot(data=df_words1, x='Count', y='Word')\n",
        "plt.title('Word Couple Frequency for Cuisines');"
      ],
      "execution_count": 41,
      "outputs": [
        {
          "output_type": "display_data",
          "data": {
            "image/png": "[encoded data removed]",
            "text/plain": [
              "<Figure size 504x432 with 1 Axes>"
            ]
          },
          "metadata": {
            "tags": [],
            "needs_background": "light"
          }
        }
      ]
    },
    {
      "cell_type": "code",
      "metadata": {
        "id": "fYFAIUkSd_Qg",
        "outputId": "484ddf8d-7d45-4fd6-c492-4f0b022b2210",
        "colab": {
          "base_uri": "https://localhost:8080/",
          "height": 404
        }
      },
      "source": [
        "# Top 20 two word frequencies for Reviews\n",
        "list2 = get_top_words(df['Review'], 20, (2,2))\n",
        "\n",
        "df_words2 = pd.DataFrame(list2, columns=['Word', 'Count'])\n",
        "\n",
        "plt.figure(figsize=(7,6))\n",
        "sns.barplot(data=df_words2, x='Count', y='Word')\n",
        "plt.title('Word Couple Frequency for Reviews');"
      ],
      "execution_count": 42,
      "outputs": [
        {
          "output_type": "display_data",
          "data": {
            "image/png": "[encoded data removed]",
            "text/plain": [
              "<Figure size 504x432 with 1 Axes>"
            ]
          },
          "metadata": {
            "tags": [],
            "needs_background": "light"
          }
        }
      ]
    },
    {
      "cell_type": "code",
      "metadata": {
        "id": "P14xgnSmeDfS"
      },
      "source": [
        "# Changing data set index by restaurant name\n",
        "df.set_index('Name', inplace=True)\n",
        "\n",
        "# Saving indexes in a series\n",
        "indices = pd.Series(df.index)\n",
        "\n",
        "# Creating tf-idf matrix\n",
        "tfidf = TfidfVectorizer(analyzer='word', ngram_range=(1, 2), min_df=0, stop_words='english')\n",
        "tfidf_matrix = tfidf.fit_transform(df['Review'])\n",
        "\n",
        "# Calculating cosine similarities\n",
        "cosine_similarities = linear_kernel(tfidf_matrix, tfidf_matrix)"
      ],
      "execution_count": 43,
      "outputs": []
    },
    {
      "cell_type": "code",
      "metadata": {
        "id": "nOoiJHVWeKvX"
      },
      "source": [
        "def recommend(name, cosine_similarities = cosine_similarities):\n",
        "    \n",
        "    # Create a list to put top 10 restaurants\n",
        "    recommend_restaurant = []\n",
        "    \n",
        "    # Find the index of the hotel entered\n",
        "    idx = indices[indices == name].index[0]\n",
        "    \n",
        "    # Find the restaurants with a similar cosine-sim value and order them from bigges number\n",
        "    score_series = pd.Series(cosine_similarities[idx]).sort_values(ascending=False)\n",
        "    \n",
        "    # Extract top 30 restaurant indexes with a similar cosine-sim value\n",
        "    top30_indexes = list(score_series.iloc[0:31].index)\n",
        "    \n",
        "    # Names of the top 30 restaurants\n",
        "    for each in top30_indexes:\n",
        "        recommend_restaurant.append(list(df.index)[each])\n",
        "    \n",
        "    # Creating the new data set to show similar restaurants\n",
        "    df_new = pd.DataFrame(columns=['Cuisines', 'Mean Rating', 'Cost', 'Timings'])\n",
        "    \n",
        "    # Create the top 30 similar restaurants with some of their columns\n",
        "    for each in recommend_restaurant:\n",
        "        df_new = df_new.append(pd.DataFrame(df[['Cuisines','Mean Rating', 'Cost', 'Timings']][df.index == each].sample()))\n",
        "    \n",
        "    # Drop the same named restaurants and sort only the top 10 by the highest rating\n",
        "    df_new = df_new.drop_duplicates(subset=['Cuisines','Mean Rating', 'Cost'], keep=False)\n",
        "    df_new = df_new.sort_values(by='Mean Rating', ascending=False).head(10)\n",
        "    \n",
        "    print('TOP %s RESTAURANTS LIKE %s WITH SIMILAR REVIEWS: ' % (str(len(df_new)), name))\n",
        "    \n",
        "    return df_new"
      ],
      "execution_count": 44,
      "outputs": []
    },
    {
      "cell_type": "code",
      "metadata": {
        "id": "aIcFdkxBeRkC",
        "outputId": "bdb844d1-0aca-425a-ff19-0a7c8a097e7c",
        "colab": {
          "base_uri": "https://localhost:8080/",
          "height": 140
        }
      },
      "source": [
        "# HERE IS A RANDOM RESTAURANT. LET'S SEE THE DETAILS ABOUT THIS RESTAURANT:\n",
        "df[df.index == 'Hyderabadi Daawat'].head(1)"
      ],
      "execution_count": 45,
      "outputs": [
        {
          "output_type": "execute_result",
          "data": {
            "text/html": [
              "<div>\n",
              "<style scoped>\n",
              "    .dataframe tbody tr th:only-of-type {\n",
              "        vertical-align: middle;\n",
              "    }\n",
              "\n",
              "    .dataframe tbody tr th {\n",
              "        vertical-align: top;\n",
              "    }\n",
              "\n",
              "    .dataframe thead th {\n",
              "        text-align: right;\n",
              "    }\n",
              "</style>\n",
              "<table border=\"1\" class=\"dataframe\">\n",
              "  <thead>\n",
              "    <tr style=\"text-align: right;\">\n",
              "      <th></th>\n",
              "      <th>Review</th>\n",
              "      <th>Rating</th>\n",
              "      <th>Cost</th>\n",
              "      <th>Cuisines</th>\n",
              "      <th>Timings</th>\n",
              "      <th>Reviews</th>\n",
              "      <th>Followers</th>\n",
              "      <th>Mean Rating</th>\n",
              "      <th>Mean Reviews</th>\n",
              "      <th>Mean Followers</th>\n",
              "    </tr>\n",
              "    <tr>\n",
              "      <th>Name</th>\n",
              "      <th></th>\n",
              "      <th></th>\n",
              "      <th></th>\n",
              "      <th></th>\n",
              "      <th></th>\n",
              "      <th></th>\n",
              "      <th></th>\n",
              "      <th></th>\n",
              "      <th></th>\n",
              "      <th></th>\n",
              "    </tr>\n",
              "  </thead>\n",
              "  <tbody>\n",
              "    <tr>\n",
              "      <th>Hyderabadi Daawat</th>\n",
              "      <td>ordered veg biryani hyderabad daawat taste ave...</td>\n",
              "      <td>3.0</td>\n",
              "      <td>600</td>\n",
              "      <td>hyderabadi chinese mughlai</td>\n",
              "      <td>12:30pm to 11:30pm (Mon-Sun)</td>\n",
              "      <td>5</td>\n",
              "      <td>0</td>\n",
              "      <td>3.31</td>\n",
              "      <td>3.61</td>\n",
              "      <td>4.55</td>\n",
              "    </tr>\n",
              "  </tbody>\n",
              "</table>\n",
              "</div>"
            ],
            "text/plain": [
              "                                                              Review  ...  Mean Followers\n",
              "Name                                                                  ...                \n",
              "Hyderabadi Daawat  ordered veg biryani hyderabad daawat taste ave...  ...            4.55\n",
              "\n",
              "[1 rows x 10 columns]"
            ]
          },
          "metadata": {
            "tags": []
          },
          "execution_count": 45
        }
      ]
    },
    {
      "cell_type": "code",
      "metadata": {
        "id": "uXfqHGrUeVpK",
        "outputId": "593e85b1-cc32-4f45-d83c-37b84979218a",
        "colab": {
          "base_uri": "https://localhost:8080/",
          "height": 360
        }
      },
      "source": [
        "# LET'S SEE WHAT ARE WE GOING TO BE RECOMMENDED:\n",
        "recommend('Hyderabadi Daawat')"
      ],
      "execution_count": 46,
      "outputs": [
        {
          "output_type": "stream",
          "text": [
            "TOP 10 RESTAURANTS LIKE Hyderabadi Daawat WITH SIMILAR REVIEWS: \n"
          ],
          "name": "stdout"
        },
        {
          "output_type": "execute_result",
          "data": {
            "text/html": [
              "<div>\n",
              "<style scoped>\n",
              "    .dataframe tbody tr th:only-of-type {\n",
              "        vertical-align: middle;\n",
              "    }\n",
              "\n",
              "    .dataframe tbody tr th {\n",
              "        vertical-align: top;\n",
              "    }\n",
              "\n",
              "    .dataframe thead th {\n",
              "        text-align: right;\n",
              "    }\n",
              "</style>\n",
              "<table border=\"1\" class=\"dataframe\">\n",
              "  <thead>\n",
              "    <tr style=\"text-align: right;\">\n",
              "      <th></th>\n",
              "      <th>Cuisines</th>\n",
              "      <th>Mean Rating</th>\n",
              "      <th>Cost</th>\n",
              "      <th>Timings</th>\n",
              "    </tr>\n",
              "  </thead>\n",
              "  <tbody>\n",
              "    <tr>\n",
              "      <th>Hyderabadi Daawat</th>\n",
              "      <td>hyderabadi chinese mughlai</td>\n",
              "      <td>3.31</td>\n",
              "      <td>600</td>\n",
              "      <td>12:30pm to 11:30pm (Mon-Sun)</td>\n",
              "    </tr>\n",
              "    <tr>\n",
              "      <th>Hyper Local</th>\n",
              "      <td>american chinese north indian kebab south indian</td>\n",
              "      <td>3.00</td>\n",
              "      <td>1000</td>\n",
              "      <td>12 Noon to 12 Midnight</td>\n",
              "    </tr>\n",
              "    <tr>\n",
              "      <th>Triptify</th>\n",
              "      <td>north indian</td>\n",
              "      <td>2.85</td>\n",
              "      <td>400</td>\n",
              "      <td>11 AM to 11 PM</td>\n",
              "    </tr>\n",
              "    <tr>\n",
              "      <th>Owm Nom Nom</th>\n",
              "      <td>chinese biryani andhra north indian</td>\n",
              "      <td>2.44</td>\n",
              "      <td>900</td>\n",
              "      <td>12Noon to 11:30PM (Mon-Sun)</td>\n",
              "    </tr>\n",
              "    <tr>\n",
              "      <th>Tandoori Food Works</th>\n",
              "      <td>north indian burger kebab</td>\n",
              "      <td>2.40</td>\n",
              "      <td>500</td>\n",
              "      <td>12noon to 12midnight (Mon, Tue, Wed, Thu, Sun)...</td>\n",
              "    </tr>\n",
              "    <tr>\n",
              "      <th>Sardarji's Chaats &amp; More</th>\n",
              "      <td>street food north indian fast food</td>\n",
              "      <td>2.37</td>\n",
              "      <td>400</td>\n",
              "      <td>12 Noon to 3:30 PM, 7 PM to 10:30 PM</td>\n",
              "    </tr>\n",
              "    <tr>\n",
              "      <th>Pista House</th>\n",
              "      <td>bakery north indian mughlai juices chinese</td>\n",
              "      <td>2.34</td>\n",
              "      <td>1000</td>\n",
              "      <td>11 AM to 12 Midnight</td>\n",
              "    </tr>\n",
              "    <tr>\n",
              "      <th>Hunger Maggi Point</th>\n",
              "      <td>fast food</td>\n",
              "      <td>2.16</td>\n",
              "      <td>200</td>\n",
              "      <td>4:30 PM to 5:30 AM</td>\n",
              "    </tr>\n",
              "    <tr>\n",
              "      <th>Mohammedia Shawarma</th>\n",
              "      <td>street food arabian</td>\n",
              "      <td>1.95</td>\n",
              "      <td>150</td>\n",
              "      <td>1 PM to 1 AM</td>\n",
              "    </tr>\n",
              "    <tr>\n",
              "      <th>Desi Bytes</th>\n",
              "      <td>north indian chinese</td>\n",
              "      <td>1.81</td>\n",
              "      <td>400</td>\n",
              "      <td>1 PM to 2 AM (Mon, Wed-Sun), Tue Closed</td>\n",
              "    </tr>\n",
              "  </tbody>\n",
              "</table>\n",
              "</div>"
            ],
            "text/plain": [
              "                                                                  Cuisines  ...                                            Timings\n",
              "Hyderabadi Daawat                               hyderabadi chinese mughlai  ...                       12:30pm to 11:30pm (Mon-Sun)\n",
              "Hyper Local               american chinese north indian kebab south indian  ...                             12 Noon to 12 Midnight\n",
              "Triptify                                                      north indian  ...                                     11 AM to 11 PM\n",
              "Owm Nom Nom                            chinese biryani andhra north indian  ...                        12Noon to 11:30PM (Mon-Sun)\n",
              "Tandoori Food Works                              north indian burger kebab  ...  12noon to 12midnight (Mon, Tue, Wed, Thu, Sun)...\n",
              "Sardarji's Chaats & More                street food north indian fast food  ...               12 Noon to 3:30 PM, 7 PM to 10:30 PM\n",
              "Pista House                     bakery north indian mughlai juices chinese  ...                               11 AM to 12 Midnight\n",
              "Hunger Maggi Point                                               fast food  ...                                 4:30 PM to 5:30 AM\n",
              "Mohammedia Shawarma                                    street food arabian  ...                                       1 PM to 1 AM\n",
              "Desi Bytes                                            north indian chinese  ...            1 PM to 2 AM (Mon, Wed-Sun), Tue Closed\n",
              "\n",
              "[10 rows x 4 columns]"
            ]
          },
          "metadata": {
            "tags": []
          },
          "execution_count": 46
        }
      ]
    },
    {
      "cell_type": "code",
      "metadata": {
        "id": "ZL0s3VxdeZE4",
        "outputId": "e75e463f-eceb-4839-d921-75dd81779637",
        "colab": {
          "base_uri": "https://localhost:8080/",
          "height": 106
        }
      },
      "source": [
        "# HERE IS A BAKERY. LET'S SEE THE DETAILS ABOUT THIS RESTAURANT:\n",
        "df[df.index == 'Labonel'].head(1)\n"
      ],
      "execution_count": 47,
      "outputs": [
        {
          "output_type": "execute_result",
          "data": {
            "text/html": [
              "<div>\n",
              "<style scoped>\n",
              "    .dataframe tbody tr th:only-of-type {\n",
              "        vertical-align: middle;\n",
              "    }\n",
              "\n",
              "    .dataframe tbody tr th {\n",
              "        vertical-align: top;\n",
              "    }\n",
              "\n",
              "    .dataframe thead th {\n",
              "        text-align: right;\n",
              "    }\n",
              "</style>\n",
              "<table border=\"1\" class=\"dataframe\">\n",
              "  <thead>\n",
              "    <tr style=\"text-align: right;\">\n",
              "      <th></th>\n",
              "      <th>Review</th>\n",
              "      <th>Rating</th>\n",
              "      <th>Cost</th>\n",
              "      <th>Cuisines</th>\n",
              "      <th>Timings</th>\n",
              "      <th>Reviews</th>\n",
              "      <th>Followers</th>\n",
              "      <th>Mean Rating</th>\n",
              "      <th>Mean Reviews</th>\n",
              "      <th>Mean Followers</th>\n",
              "    </tr>\n",
              "    <tr>\n",
              "      <th>Name</th>\n",
              "      <th></th>\n",
              "      <th></th>\n",
              "      <th></th>\n",
              "      <th></th>\n",
              "      <th></th>\n",
              "      <th></th>\n",
              "      <th></th>\n",
              "      <th></th>\n",
              "      <th></th>\n",
              "      <th></th>\n",
              "    </tr>\n",
              "  </thead>\n",
              "  <tbody>\n",
              "    <tr>\n",
              "      <th>Labonel</th>\n",
              "      <td>let make simple brownies die huge variety cupc...</td>\n",
              "      <td>4.0</td>\n",
              "      <td>1000</td>\n",
              "      <td>bakery desserts</td>\n",
              "      <td>11 AM to 8 PM (Mon-Sat), Sun Closed</td>\n",
              "      <td>18</td>\n",
              "      <td>86</td>\n",
              "      <td>3.44</td>\n",
              "      <td>5.0</td>\n",
              "      <td>3.27</td>\n",
              "    </tr>\n",
              "  </tbody>\n",
              "</table>\n",
              "</div>"
            ],
            "text/plain": [
              "                                                    Review  ...  Mean Followers\n",
              "Name                                                        ...                \n",
              "Labonel  let make simple brownies die huge variety cupc...  ...            3.27\n",
              "\n",
              "[1 rows x 10 columns]"
            ]
          },
          "metadata": {
            "tags": []
          },
          "execution_count": 47
        }
      ]
    },
    {
      "cell_type": "code",
      "metadata": {
        "id": "KV1JeS2CedvA",
        "outputId": "5765439e-4e1f-4092-dd20-381deb42e4ec",
        "colab": {
          "base_uri": "https://localhost:8080/",
          "height": 153
        }
      },
      "source": [
        "# LET'S SEE WHAT ARE WE GOING TO BE RECOMMENDED:\n",
        "recommend('Labonel')"
      ],
      "execution_count": 48,
      "outputs": [
        {
          "output_type": "stream",
          "text": [
            "TOP 3 RESTAURANTS LIKE Labonel WITH SIMILAR REVIEWS: \n"
          ],
          "name": "stdout"
        },
        {
          "output_type": "execute_result",
          "data": {
            "text/html": [
              "<div>\n",
              "<style scoped>\n",
              "    .dataframe tbody tr th:only-of-type {\n",
              "        vertical-align: middle;\n",
              "    }\n",
              "\n",
              "    .dataframe tbody tr th {\n",
              "        vertical-align: top;\n",
              "    }\n",
              "\n",
              "    .dataframe thead th {\n",
              "        text-align: right;\n",
              "    }\n",
              "</style>\n",
              "<table border=\"1\" class=\"dataframe\">\n",
              "  <thead>\n",
              "    <tr style=\"text-align: right;\">\n",
              "      <th></th>\n",
              "      <th>Cuisines</th>\n",
              "      <th>Mean Rating</th>\n",
              "      <th>Cost</th>\n",
              "      <th>Timings</th>\n",
              "    </tr>\n",
              "  </thead>\n",
              "  <tbody>\n",
              "    <tr>\n",
              "      <th>Cream Stone</th>\n",
              "      <td>ice cream desserts</td>\n",
              "      <td>3.33</td>\n",
              "      <td>350</td>\n",
              "      <td>10 AM to 1 AM (Mon-Thu), 10 AM to 1:30 AM (Fri...</td>\n",
              "    </tr>\n",
              "    <tr>\n",
              "      <th>Karachi Cafe</th>\n",
              "      <td>cafe desserts fast food</td>\n",
              "      <td>3.12</td>\n",
              "      <td>600</td>\n",
              "      <td>10 AM to 10 PM</td>\n",
              "    </tr>\n",
              "    <tr>\n",
              "      <th>The Old Madras Baking Company</th>\n",
              "      <td>bakery</td>\n",
              "      <td>2.92</td>\n",
              "      <td>350</td>\n",
              "      <td>7 AM to 11 PM</td>\n",
              "    </tr>\n",
              "  </tbody>\n",
              "</table>\n",
              "</div>"
            ],
            "text/plain": [
              "                                              Cuisines  ...                                            Timings\n",
              "Cream Stone                         ice cream desserts  ...  10 AM to 1 AM (Mon-Thu), 10 AM to 1:30 AM (Fri...\n",
              "Karachi Cafe                   cafe desserts fast food  ...                                     10 AM to 10 PM\n",
              "The Old Madras Baking Company                   bakery  ...                                      7 AM to 11 PM\n",
              "\n",
              "[3 rows x 4 columns]"
            ]
          },
          "metadata": {
            "tags": []
          },
          "execution_count": 48
        }
      ]
    },
    {
      "cell_type": "code",
      "metadata": {
        "id": "UVlhkaFfehiW"
      },
      "source": [
        ""
      ],
      "execution_count": null,
      "outputs": []
    }
  ]
}